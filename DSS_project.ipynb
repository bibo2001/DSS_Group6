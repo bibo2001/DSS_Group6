{
 "cells": [
  {
   "cell_type": "markdown",
   "metadata": {
    "papermill": {
     "duration": 0.033175,
     "end_time": "2022-01-19T05:43:01.714821",
     "exception": false,
     "start_time": "2022-01-19T05:43:01.681646",
     "status": "completed"
    },
    "tags": []
   },
   "source": [
    "# 背景與動機 🎯"
   ]
  },
  {
   "cell_type": "markdown",
   "metadata": {},
   "source": [
    "1. 農業現代化的需求：現代農業需要科技的幫助，以提高效率、節省成本。決策系統可以為農民提供關鍵的決策支持，以提高農業效率。\n",
    "\n",
    "2. 土壤管理和作物選擇：不同的作物對土壤的需求各不相同，而土壤的品質和成分也因地點而異。農作物決策系統可以挑選適合當地土壤和氣候條件的作物，實現更高的農業生產力。\n",
    "\n",
    "我們希望提供農業社區一個先進的工具，幫助農民在開始種植作物之前做出明智的決定，來提高生產力、節省資源並實現可持續的農業實踐。幫助農民在種植作物方面做出更明智的選擇，提高農業生產力，降低風險，促進農業的永續發展。"
   ]
  },
  {
   "cell_type": "markdown",
   "metadata": {},
   "source": [
    "# 資料集來源"
   ]
  },
  {
   "cell_type": "markdown",
   "metadata": {},
   "source": [
    "由農業開放資料平臺取得：\n",
    "1. 雲嘉南地區土壤性質分析資料 [Data detail](https://data.coa.gov.tw/open_detail.aspx?id=116)\n",
    "2. 臺東區植體及土壤診斷分析服務資料 [Data detail](https://data.coa.gov.tw/open_detail.aspx?id=142)"
   ]
  },
  {
   "cell_type": "markdown",
   "metadata": {},
   "source": [
    "# 預期結果"
   ]
  },
  {
   "cell_type": "markdown",
   "metadata": {},
   "source": [
    "農作物決策系統預期將幫助農民在種植作物方面做出更明智的選擇，提高農業生產力，降低風險，促進農業的永續發展。"
   ]
  },
  {
   "cell_type": "markdown",
   "metadata": {},
   "source": [
    "# 研究方法與步驟"
   ]
  },
  {
   "cell_type": "markdown",
   "metadata": {},
   "source": [
    "### 資料處理"
   ]
  },
  {
   "cell_type": "code",
   "execution_count": 82,
   "metadata": {
    "execution": {
     "iopub.execute_input": "2022-01-19T05:43:01.988303Z",
     "iopub.status.busy": "2022-01-19T05:43:01.987258Z",
     "iopub.status.idle": "2022-01-19T05:43:03.198329Z",
     "shell.execute_reply": "2022-01-19T05:43:03.197591Z"
    },
    "papermill": {
     "duration": 1.249177,
     "end_time": "2022-01-19T05:43:03.198482",
     "exception": false,
     "start_time": "2022-01-19T05:43:01.949305",
     "status": "completed"
    },
    "tags": []
   },
   "outputs": [],
   "source": [
    "from __future__ import print_function\n",
    "import pandas as pd\n",
    "import numpy as np\n",
    "import matplotlib.pyplot as plt\n",
    "import seaborn as sns\n",
    "from sklearn.metrics import classification_report\n",
    "from sklearn import metrics\n",
    "from sklearn import tree\n",
    "import warnings\n",
    "warnings.filterwarnings('ignore')"
   ]
  },
  {
   "cell_type": "code",
   "execution_count": 83,
   "metadata": {
    "execution": {
     "iopub.execute_input": "2022-01-19T05:43:03.277905Z",
     "iopub.status.busy": "2022-01-19T05:43:03.277230Z",
     "iopub.status.idle": "2022-01-19T05:43:03.295749Z",
     "shell.execute_reply": "2022-01-19T05:43:03.296326Z"
    },
    "papermill": {
     "duration": 0.064077,
     "end_time": "2022-01-19T05:43:03.296513",
     "exception": false,
     "start_time": "2022-01-19T05:43:03.232436",
     "status": "completed"
    },
    "tags": []
   },
   "outputs": [],
   "source": [
    "df1 = pd.read_csv('/Users/jiangjiaen/Desktop/DSS/COA_OpenData.csv')  # 雲嘉南\n",
    "df2 = pd.read_csv('/Users/jiangjiaen/Desktop/DSS/142.csv')  # 台東"
   ]
  },
  {
   "cell_type": "code",
   "execution_count": 84,
   "metadata": {},
   "outputs": [],
   "source": [
    "df1 = df1.drop(columns=['送樣日期', '樣品地段地號', '鈉Na'])\n",
    "df2 = df2.drop(columns=['年度', '月份', '樣品編號', '地點', 'Fe', 'Mn', 'Cu', 'Zn', 'Pb', 'Cd', 'Ni', 'Cr', 'Si', 'Na'])\n"
   ]
  },
  {
   "cell_type": "code",
   "execution_count": 85,
   "metadata": {},
   "outputs": [],
   "source": [
    "# 對df1進行欄位重新命名\n",
    "df1 = df1.rename(columns={\n",
    "    '種植作物': 'CropType',\n",
    "    '有機質': 'OrganicMatter',\n",
    "    '有效性磷': 'P2O5',\n",
    "    '有效性鉀': 'K2O',\n",
    "    '有效性鈣': 'CaO',\n",
    "    '有效性鎂': 'MgO',\n",
    "})\n",
    "\n",
    "# 對df2進行欄位重新命名\n",
    "df2 = df2.rename(columns={\n",
    "    '試驗項目': 'CropType',\n",
    "    '有機質': 'OrganicMatter'\n",
    "})\n",
    "\n",
    "# 進行合併或其他操作\n",
    "df = pd.concat([df1, df2], ignore_index=True)"
   ]
  },
  {
   "cell_type": "code",
   "execution_count": 86,
   "metadata": {},
   "outputs": [],
   "source": [
    "# 創建一個字典，將df1、df2品種相同，但命名不同的水果名統一\n",
    "replace_dict = {\n",
    "    '紅龍果': '火龍果',\n",
    "    '茶葉': '茶',\n",
    "    '米': '水稻',\n",
    "    '硬質玉米': '玉米',\n",
    "    '小番茄': '番茄',\n",
    "    '文旦': '文旦柚',\n",
    "    '鳳梨釋迦': '釋迦',\n",
    "    '胡蘿蔔': '紅蘿蔔'\n",
    "}\n",
    "\n",
    "# 使用replace方法進行替換\n",
    "df['CropType'] = df['CropType'].replace(replace_dict)\n"
   ]
  },
  {
   "cell_type": "code",
   "execution_count": 87,
   "metadata": {},
   "outputs": [
    {
     "data": {
      "text/plain": [
       "CropType         0\n",
       "EC               0\n",
       "pH               0\n",
       "OrganicMatter    0\n",
       "P2O5             0\n",
       "K2O              0\n",
       "CaO              0\n",
       "MgO              0\n",
       "dtype: int64"
      ]
     },
     "execution_count": 87,
     "metadata": {},
     "output_type": "execute_result"
    }
   ],
   "source": [
    "df = df.dropna(axis=0)\n",
    "df.isnull().sum()"
   ]
  },
  {
   "cell_type": "code",
   "execution_count": 88,
   "metadata": {},
   "outputs": [],
   "source": [
    "cols_to_convert = df.columns[df.columns != 'CropType']\n",
    "\n",
    "for col in cols_to_convert:\n",
    "    df[col] = pd.to_numeric(df[col], errors='coerce')"
   ]
  },
  {
   "cell_type": "code",
   "execution_count": 89,
   "metadata": {},
   "outputs": [
    {
     "data": {
      "text/plain": [
       "0        False\n",
       "1        False\n",
       "2        False\n",
       "3        False\n",
       "4        False\n",
       "         ...  \n",
       "15773    False\n",
       "15774    False\n",
       "15775    False\n",
       "15776    False\n",
       "15777     True\n",
       "Name: CropType, Length: 14546, dtype: bool"
      ]
     },
     "execution_count": 89,
     "metadata": {},
     "output_type": "execute_result"
    }
   ],
   "source": [
    "# 創建布林遮罩，用於識別那些計數大於或等於190的種植作物\n",
    "counts = df['CropType'].value_counts()\n",
    "mask = df['CropType'].isin(counts[counts >= 190].index)\n",
    "mask"
   ]
  },
  {
   "cell_type": "code",
   "execution_count": 90,
   "metadata": {},
   "outputs": [],
   "source": [
    "df = df[mask]"
   ]
  },
  {
   "cell_type": "code",
   "execution_count": 91,
   "metadata": {},
   "outputs": [
    {
     "data": {
      "text/html": [
       "<div>\n",
       "<style scoped>\n",
       "    .dataframe tbody tr th:only-of-type {\n",
       "        vertical-align: middle;\n",
       "    }\n",
       "\n",
       "    .dataframe tbody tr th {\n",
       "        vertical-align: top;\n",
       "    }\n",
       "\n",
       "    .dataframe thead th {\n",
       "        text-align: right;\n",
       "    }\n",
       "</style>\n",
       "<table border=\"1\" class=\"dataframe\">\n",
       "  <thead>\n",
       "    <tr style=\"text-align: right;\">\n",
       "      <th></th>\n",
       "      <th>CropType</th>\n",
       "      <th>EC</th>\n",
       "      <th>pH</th>\n",
       "      <th>OrganicMatter</th>\n",
       "      <th>P2O5</th>\n",
       "      <th>K2O</th>\n",
       "      <th>CaO</th>\n",
       "      <th>MgO</th>\n",
       "    </tr>\n",
       "  </thead>\n",
       "  <tbody>\n",
       "    <tr>\n",
       "      <th>10</th>\n",
       "      <td>火龍果</td>\n",
       "      <td>0.446</td>\n",
       "      <td>6.12</td>\n",
       "      <td>2.203448</td>\n",
       "      <td>1473.235647</td>\n",
       "      <td>359.372812</td>\n",
       "      <td>3941.156951</td>\n",
       "      <td>264.158337</td>\n",
       "    </tr>\n",
       "    <tr>\n",
       "      <th>12</th>\n",
       "      <td>文旦柚</td>\n",
       "      <td>0.112</td>\n",
       "      <td>6.49</td>\n",
       "      <td>1.956897</td>\n",
       "      <td>15.683317</td>\n",
       "      <td>75.804170</td>\n",
       "      <td>1860.018160</td>\n",
       "      <td>318.911364</td>\n",
       "    </tr>\n",
       "    <tr>\n",
       "      <th>13</th>\n",
       "      <td>文旦柚</td>\n",
       "      <td>0.114</td>\n",
       "      <td>7.00</td>\n",
       "      <td>1.386207</td>\n",
       "      <td>12.817032</td>\n",
       "      <td>52.386375</td>\n",
       "      <td>1816.381067</td>\n",
       "      <td>299.187349</td>\n",
       "    </tr>\n",
       "    <tr>\n",
       "      <th>14</th>\n",
       "      <td>文旦柚</td>\n",
       "      <td>0.214</td>\n",
       "      <td>7.75</td>\n",
       "      <td>0.946552</td>\n",
       "      <td>49.547788</td>\n",
       "      <td>63.205538</td>\n",
       "      <td>1843.764998</td>\n",
       "      <td>142.196856</td>\n",
       "    </tr>\n",
       "    <tr>\n",
       "      <th>15</th>\n",
       "      <td>文旦柚</td>\n",
       "      <td>0.196</td>\n",
       "      <td>8.44</td>\n",
       "      <td>1.139655</td>\n",
       "      <td>116.654290</td>\n",
       "      <td>70.876705</td>\n",
       "      <td>2581.730594</td>\n",
       "      <td>364.377548</td>\n",
       "    </tr>\n",
       "    <tr>\n",
       "      <th>...</th>\n",
       "      <td>...</td>\n",
       "      <td>...</td>\n",
       "      <td>...</td>\n",
       "      <td>...</td>\n",
       "      <td>...</td>\n",
       "      <td>...</td>\n",
       "      <td>...</td>\n",
       "      <td>...</td>\n",
       "    </tr>\n",
       "    <tr>\n",
       "      <th>15769</th>\n",
       "      <td>水稻</td>\n",
       "      <td>0.230</td>\n",
       "      <td>6.38</td>\n",
       "      <td>4.320000</td>\n",
       "      <td>58.770000</td>\n",
       "      <td>260.360000</td>\n",
       "      <td>5874.230000</td>\n",
       "      <td>659.330000</td>\n",
       "    </tr>\n",
       "    <tr>\n",
       "      <th>15770</th>\n",
       "      <td>水稻</td>\n",
       "      <td>0.310</td>\n",
       "      <td>6.34</td>\n",
       "      <td>2.460000</td>\n",
       "      <td>53.680000</td>\n",
       "      <td>112.160000</td>\n",
       "      <td>9110.360000</td>\n",
       "      <td>103.230000</td>\n",
       "    </tr>\n",
       "    <tr>\n",
       "      <th>15771</th>\n",
       "      <td>水稻</td>\n",
       "      <td>0.110</td>\n",
       "      <td>5.86</td>\n",
       "      <td>5.080000</td>\n",
       "      <td>163.160000</td>\n",
       "      <td>1073.670000</td>\n",
       "      <td>3371.260000</td>\n",
       "      <td>377.770000</td>\n",
       "    </tr>\n",
       "    <tr>\n",
       "      <th>15772</th>\n",
       "      <td>玉米</td>\n",
       "      <td>0.160</td>\n",
       "      <td>5.96</td>\n",
       "      <td>2.710000</td>\n",
       "      <td>42.510000</td>\n",
       "      <td>164.520000</td>\n",
       "      <td>3036.610000</td>\n",
       "      <td>871.530000</td>\n",
       "    </tr>\n",
       "    <tr>\n",
       "      <th>15777</th>\n",
       "      <td>火龍果</td>\n",
       "      <td>0.070</td>\n",
       "      <td>5.34</td>\n",
       "      <td>1.460000</td>\n",
       "      <td>121.340000</td>\n",
       "      <td>187.260000</td>\n",
       "      <td>1725.690000</td>\n",
       "      <td>65.580000</td>\n",
       "    </tr>\n",
       "  </tbody>\n",
       "</table>\n",
       "<p>6338 rows × 8 columns</p>\n",
       "</div>"
      ],
      "text/plain": [
       "      CropType     EC    pH  OrganicMatter         P2O5          K2O  \\\n",
       "10         火龍果  0.446  6.12       2.203448  1473.235647   359.372812   \n",
       "12         文旦柚  0.112  6.49       1.956897    15.683317    75.804170   \n",
       "13         文旦柚  0.114  7.00       1.386207    12.817032    52.386375   \n",
       "14         文旦柚  0.214  7.75       0.946552    49.547788    63.205538   \n",
       "15         文旦柚  0.196  8.44       1.139655   116.654290    70.876705   \n",
       "...        ...    ...   ...            ...          ...          ...   \n",
       "15769       水稻  0.230  6.38       4.320000    58.770000   260.360000   \n",
       "15770       水稻  0.310  6.34       2.460000    53.680000   112.160000   \n",
       "15771       水稻  0.110  5.86       5.080000   163.160000  1073.670000   \n",
       "15772       玉米  0.160  5.96       2.710000    42.510000   164.520000   \n",
       "15777      火龍果  0.070  5.34       1.460000   121.340000   187.260000   \n",
       "\n",
       "               CaO         MgO  \n",
       "10     3941.156951  264.158337  \n",
       "12     1860.018160  318.911364  \n",
       "13     1816.381067  299.187349  \n",
       "14     1843.764998  142.196856  \n",
       "15     2581.730594  364.377548  \n",
       "...            ...         ...  \n",
       "15769  5874.230000  659.330000  \n",
       "15770  9110.360000  103.230000  \n",
       "15771  3371.260000  377.770000  \n",
       "15772  3036.610000  871.530000  \n",
       "15777  1725.690000   65.580000  \n",
       "\n",
       "[6338 rows x 8 columns]"
      ]
     },
     "execution_count": 91,
     "metadata": {},
     "output_type": "execute_result"
    }
   ],
   "source": [
    "df"
   ]
  },
  {
   "cell_type": "markdown",
   "metadata": {
    "papermill": {
     "duration": 0.039153,
     "end_time": "2022-01-19T05:43:04.626871",
     "exception": false,
     "start_time": "2022-01-19T05:43:04.587718",
     "status": "completed"
    },
    "tags": []
   },
   "source": [
    "### 分離特徵和目標標籤"
   ]
  },
  {
   "cell_type": "code",
   "execution_count": 92,
   "metadata": {
    "execution": {
     "iopub.execute_input": "2022-01-19T05:43:04.711476Z",
     "iopub.status.busy": "2022-01-19T05:43:04.710837Z",
     "iopub.status.idle": "2022-01-19T05:43:04.716667Z",
     "shell.execute_reply": "2022-01-19T05:43:04.717198Z"
    },
    "papermill": {
     "duration": 0.049985,
     "end_time": "2022-01-19T05:43:04.717341",
     "exception": false,
     "start_time": "2022-01-19T05:43:04.667356",
     "status": "completed"
    },
    "tags": []
   },
   "outputs": [],
   "source": [
    "features = df[['EC', 'pH', 'OrganicMatter', 'P2O5', 'K2O', 'CaO', 'MgO']]\n",
    "target = df['CropType']\n",
    "labels = df['CropType']"
   ]
  },
  {
   "cell_type": "code",
   "execution_count": 93,
   "metadata": {
    "execution": {
     "iopub.execute_input": "2022-01-19T05:43:04.800353Z",
     "iopub.status.busy": "2022-01-19T05:43:04.799714Z",
     "iopub.status.idle": "2022-01-19T05:43:04.803063Z",
     "shell.execute_reply": "2022-01-19T05:43:04.803702Z"
    },
    "papermill": {
     "duration": 0.046447,
     "end_time": "2022-01-19T05:43:04.803839",
     "exception": false,
     "start_time": "2022-01-19T05:43:04.757392",
     "status": "completed"
    },
    "tags": []
   },
   "outputs": [],
   "source": [
    "# 初始化空列表\n",
    "acc = []\n",
    "model = []"
   ]
  },
  {
   "cell_type": "code",
   "execution_count": 94,
   "metadata": {},
   "outputs": [],
   "source": [
    "# 以平均數填充\n",
    "features_filled = features.fillna(features.mean())"
   ]
  },
  {
   "cell_type": "code",
   "execution_count": 95,
   "metadata": {},
   "outputs": [],
   "source": [
    "from sklearn.model_selection import train_test_split\n",
    "Xtrain, Xtest, Ytrain, Ytest = train_test_split(features_filled, target, test_size=0.2, random_state=0)"
   ]
  },
  {
   "cell_type": "markdown",
   "metadata": {
    "papermill": {
     "duration": 0.044439,
     "end_time": "2022-01-19T05:43:11.347958",
     "exception": false,
     "start_time": "2022-01-19T05:43:11.303519",
     "status": "completed"
    },
    "tags": []
   },
   "source": [
    "### Random Forest"
   ]
  },
  {
   "cell_type": "code",
   "execution_count": 96,
   "metadata": {
    "execution": {
     "iopub.execute_input": "2022-01-19T05:43:11.444242Z",
     "iopub.status.busy": "2022-01-19T05:43:11.439880Z",
     "iopub.status.idle": "2022-01-19T05:43:11.590925Z",
     "shell.execute_reply": "2022-01-19T05:43:11.590151Z"
    },
    "papermill": {
     "duration": 0.198284,
     "end_time": "2022-01-19T05:43:11.591096",
     "exception": false,
     "start_time": "2022-01-19T05:43:11.392812",
     "status": "completed"
    },
    "tags": []
   },
   "outputs": [
    {
     "name": "stdout",
     "output_type": "stream",
     "text": [
      "RandomForest's Accuracy is:  0.6593059936908517\n",
      "              precision    recall  f1-score   support\n",
      "\n",
      "          小米       0.89      0.69      0.78        48\n",
      "         文旦柚       0.63      0.86      0.73       374\n",
      "          水稻       0.74      0.81      0.77       251\n",
      "         火龍果       0.71      0.16      0.26        95\n",
      "          玉米       0.56      0.47      0.51        64\n",
      "          番茄       0.58      0.49      0.53        92\n",
      "         紅蘿蔔       0.69      0.62      0.65        65\n",
      "          芒果       0.59      0.52      0.55        50\n",
      "          花生       0.65      0.55      0.60        62\n",
      "          蔬菜       0.80      0.19      0.31        63\n",
      "          釋迦       0.63      0.71      0.67       104\n",
      "\n",
      "    accuracy                           0.66      1268\n",
      "   macro avg       0.68      0.55      0.58      1268\n",
      "weighted avg       0.67      0.66      0.63      1268\n",
      "\n"
     ]
    }
   ],
   "source": [
    "from sklearn.ensemble import RandomForestClassifier\n",
    "\n",
    "RF = RandomForestClassifier(n_estimators=1300, random_state=0)\n",
    "RF.fit(Xtrain,Ytrain)\n",
    "\n",
    "predicted_values = RF.predict(Xtest)\n",
    "\n",
    "x = metrics.accuracy_score(Ytest, predicted_values)\n",
    "acc.append(x)\n",
    "model.append('RandomForest')\n",
    "print(\"RandomForest's Accuracy is: \", x)\n",
    "\n",
    "print(classification_report(Ytest,predicted_values))"
   ]
  },
  {
   "cell_type": "markdown",
   "metadata": {},
   "source": [
    "### 使用者介面設計"
   ]
  },
  {
   "cell_type": "code",
   "execution_count": 97,
   "metadata": {},
   "outputs": [],
   "source": [
    "import tkinter as tk\n",
    "from tkinter import ttk\n",
    "from tkinter import messagebox\n",
    "\n",
    "def predict_crop():\n",
    "    # 檢查是否有空白輸入\n",
    "    if any(entry.get() == \"\" for entry in [EC_entry, pH_entry, OrganicMatter_entry, P2O5_entry, K2O_entry, CaO_entry, MgO_entry]):\n",
    "        messagebox.showerror(\"Error\", \"Please fill in all input labels.\", icon='warning')\n",
    "        return\n",
    "    \n",
    "    try:\n",
    "        data = [\n",
    "            float(EC_entry.get()),\n",
    "            float(pH_entry.get()),\n",
    "            float(OrganicMatter_entry.get()),\n",
    "            float(P2O5_entry.get()),\n",
    "            float(K2O_entry.get()),\n",
    "            float(CaO_entry.get()),\n",
    "            float(MgO_entry.get())\n",
    "        ]\n",
    "    except ValueError:\n",
    "        messagebox.showerror(\"Error\", \"Please enter valid numeric values.\", icon='error')\n",
    "        return\n",
    "    \n",
    "    predicted_crop = RF.predict([data])[0]\n",
    "    \n",
    "    result_label.config(text=f\"Recommended CropType: {predicted_crop}\")\n",
    "\n",
    "# window\n",
    "root = tk.Tk()\n",
    "root.geometry(\"800x600\")\n",
    "root.title(\"Crop Prediction\")\n",
    "font_size = 16\n",
    "\n",
    "# entry label\n",
    "tk.Label(root, text=\"EC\", anchor=\"e\", padx=150, font=(\"Arial\", font_size)).grid(row=0, column=0, pady=15)\n",
    "EC_entry = tk.Entry(root, justify='center', font=(\"Arial\", font_size))\n",
    "EC_entry.grid(row=0, column=1, pady=15)\n",
    "\n",
    "tk.Label(root, text=\"pH\", anchor=\"e\", padx=150, font=(\"Arial\", font_size)).grid(row=1, column=0, pady=15)\n",
    "pH_entry = tk.Entry(root, justify='center', font=(\"Arial\", font_size))\n",
    "pH_entry.grid(row=1, column=1, pady=15)\n",
    "\n",
    "tk.Label(root, text=\"OrganicMatter\", anchor=\"e\", padx=150, font=(\"Arial\", font_size)).grid(row=2, column=0, pady=15)\n",
    "OrganicMatter_entry = tk.Entry(root, justify='center', font=(\"Arial\", font_size))\n",
    "OrganicMatter_entry.grid(row=2, column=1, pady=15)\n",
    "\n",
    "tk.Label(root, text=\"P2O5\", anchor=\"e\", padx=150, font=(\"Arial\", font_size)).grid(row=3, column=0, pady=15)\n",
    "P2O5_entry = tk.Entry(root, justify='center', font=(\"Arial\", font_size))\n",
    "P2O5_entry.grid(row=3, column=1, pady=15)\n",
    "\n",
    "tk.Label(root, text=\"K2O\", anchor=\"e\", padx=150, font=(\"Arial\", font_size)).grid(row=4, column=0, pady=15)\n",
    "K2O_entry = tk.Entry(root, justify='center', font=(\"Arial\", font_size))\n",
    "K2O_entry.grid(row=4, column=1, pady=15)\n",
    "\n",
    "tk.Label(root, text=\"CaO\", anchor=\"e\", padx=150, font=(\"Arial\", font_size)).grid(row=5, column=0, pady=15)\n",
    "CaO_entry = tk.Entry(root, justify='center', font=(\"Arial\", font_size))\n",
    "CaO_entry.grid(row=5, column=1, pady=15)\n",
    "\n",
    "tk.Label(root, text=\"MgO\", anchor=\"e\", padx=150, font=(\"Arial\", font_size)).grid(row=6, column=0, pady=15)\n",
    "MgO_entry = tk.Entry(root, justify='center', font=(\"Arial\", font_size))\n",
    "MgO_entry.grid(row=6, column=1, pady=15)\n",
    "\n",
    "# button\n",
    "style = ttk.Style()\n",
    "style.configure('TButton', justify='center', font=('Arial', font_size+2), padding=(10, 5))\n",
    "predict_button = ttk.Button(root, text=\"Predict Crop\", command=predict_crop, style='TButton')\n",
    "predict_button.grid(row=7, column=0, columnspan=2, pady=(30,20))\n",
    "\n",
    "# result label\n",
    "result_label = ttk.Label(root, text=\"Recommended CropType: \", font=(\"Arial\", font_size+4, \"bold\"))\n",
    "result_label.grid(row=8, column=0, columnspan=2, pady=(20, 40))\n",
    "\n",
    "# result_label = ttk.Label(root, text=\"Recommended CropType: \", font=(\"Arial\", font_size+2, \"bold\"))\n",
    "# result_label.grid(row=8, column=0, columnspan=2, pady=(20,40))\n",
    "\n",
    "root.mainloop()"
   ]
  }
 ],
 "metadata": {
  "kernelspec": {
   "display_name": "Python 3",
   "language": "python",
   "name": "python3"
  },
  "language_info": {
   "codemirror_mode": {
    "name": "ipython",
    "version": 3
   },
   "file_extension": ".py",
   "mimetype": "text/x-python",
   "name": "python",
   "nbconvert_exporter": "python",
   "pygments_lexer": "ipython3",
   "version": "3.8.8"
  },
  "papermill": {
   "duration": 21.35152,
   "end_time": "2022-01-19T05:43:18.107695",
   "environment_variables": {},
   "exception": null,
   "input_path": "__notebook__.ipynb",
   "output_path": "__notebook__.ipynb",
   "parameters": {},
   "start_time": "2022-01-19T05:42:56.756175",
   "version": "2.1.0"
  }
 },
 "nbformat": 4,
 "nbformat_minor": 4
}
