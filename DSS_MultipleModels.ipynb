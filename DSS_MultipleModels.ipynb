{
 "cells": [
  {
   "cell_type": "markdown",
   "metadata": {
    "papermill": {
     "duration": 0.035282,
     "end_time": "2022-01-19T05:43:01.444332",
     "exception": false,
     "start_time": "2022-01-19T05:43:01.409050",
     "status": "completed"
    },
    "tags": []
   },
   "source": [
    "# 農作物決策系統（多種模型版）"
   ]
  },
  {
   "cell_type": "markdown",
   "metadata": {
    "papermill": {
     "duration": 0.033795,
     "end_time": "2022-01-19T05:43:01.916056",
     "exception": false,
     "start_time": "2022-01-19T05:43:01.882261",
     "status": "completed"
    },
    "tags": []
   },
   "source": [
    "### **So, without further ado, Let's dive in and code ...**"
   ]
  },
  {
   "cell_type": "code",
   "execution_count": 1,
   "metadata": {
    "execution": {
     "iopub.execute_input": "2022-01-19T05:43:01.988303Z",
     "iopub.status.busy": "2022-01-19T05:43:01.987258Z",
     "iopub.status.idle": "2022-01-19T05:43:03.198329Z",
     "shell.execute_reply": "2022-01-19T05:43:03.197591Z"
    },
    "papermill": {
     "duration": 1.249177,
     "end_time": "2022-01-19T05:43:03.198482",
     "exception": false,
     "start_time": "2022-01-19T05:43:01.949305",
     "status": "completed"
    },
    "tags": []
   },
   "outputs": [],
   "source": [
    "# Importing libraries\n",
    "\n",
    "from __future__ import print_function\n",
    "import pandas as pd\n",
    "import numpy as np\n",
    "import matplotlib.pyplot as plt\n",
    "import seaborn as sns\n",
    "from sklearn.metrics import classification_report\n",
    "from sklearn import metrics\n",
    "from sklearn import tree\n",
    "import warnings\n",
    "warnings.filterwarnings('ignore')"
   ]
  },
  {
   "cell_type": "code",
   "execution_count": 2,
   "metadata": {
    "execution": {
     "iopub.execute_input": "2022-01-19T05:43:03.277905Z",
     "iopub.status.busy": "2022-01-19T05:43:03.277230Z",
     "iopub.status.idle": "2022-01-19T05:43:03.295749Z",
     "shell.execute_reply": "2022-01-19T05:43:03.296326Z"
    },
    "papermill": {
     "duration": 0.064077,
     "end_time": "2022-01-19T05:43:03.296513",
     "exception": false,
     "start_time": "2022-01-19T05:43:03.232436",
     "status": "completed"
    },
    "tags": []
   },
   "outputs": [],
   "source": [
    "df1 = pd.read_csv('/Users/jiangjiaen/Desktop/DSS/COA_OpenData.csv')  # 雲嘉南\n",
    "df2 = pd.read_csv('/Users/jiangjiaen/Desktop/DSS/142.csv')  # 台東"
   ]
  },
  {
   "cell_type": "code",
   "execution_count": 3,
   "metadata": {},
   "outputs": [
    {
     "name": "stdout",
     "output_type": "stream",
     "text": [
      "df1.columns: Index(['送樣日期', '樣品地段地號', '種植作物', 'EC', 'pH', '有機質', '有效性磷', '有效性鉀', '有效性鈣',\n",
      "       '有效性鎂', '鈉Na'],\n",
      "      dtype='object')\n",
      "df2.columns: Index(['年度', '月份', '樣品編號', '試驗項目', '地點', 'pH', '有機質', 'P2O5', 'K2O', 'CaO',\n",
      "       'MgO', 'EC', 'Fe', 'Mn', 'Cu', 'Zn', 'Pb', 'Cd', 'Ni', 'Cr', 'Na',\n",
      "       'Si'],\n",
      "      dtype='object')\n"
     ]
    }
   ],
   "source": [
    "print(\"df1.columns:\",df1.columns)\n",
    "print(\"df2.columns:\",df2.columns)"
   ]
  },
  {
   "cell_type": "code",
   "execution_count": 5,
   "metadata": {},
   "outputs": [
    {
     "name": "stdout",
     "output_type": "stream",
     "text": [
      "雲嘉南土壤各欄位的 NA 值數量:\n",
      "送樣日期         0\n",
      "樣品地段地號       0\n",
      "種植作物         0\n",
      "EC           1\n",
      "pH           1\n",
      "有機質          0\n",
      "有效性磷         0\n",
      "有效性鉀         0\n",
      "有效性鈣         2\n",
      "有效性鎂         2\n",
      "鈉Na       9334\n",
      "dtype: int64\n",
      "\n",
      "\n",
      "台東土壤各欄位的 NA 值數量:\n",
      "年度        0\n",
      "月份        0\n",
      "樣品編號      0\n",
      "試驗項目    595\n",
      "地點      770\n",
      "pH       96\n",
      "有機質     658\n",
      "P2O5    101\n",
      "K2O      99\n",
      "CaO      99\n",
      "MgO      10\n",
      "EC       14\n",
      "Fe       10\n",
      "Mn       10\n",
      "Cu       10\n",
      "Zn       10\n",
      "Pb      147\n",
      "Cd      147\n",
      "Ni      147\n",
      "Cr      140\n",
      "Na      308\n",
      "Si      123\n",
      "dtype: int64\n"
     ]
    }
   ],
   "source": [
    "# na_counts_df1 = df1.isna().sum()\n",
    "# na_counts_df2 = df2.isna().sum()\n",
    "\n",
    "# # 顯示結果\n",
    "# print(\"雲嘉南土壤各欄位的 NA 值數量:\")\n",
    "# print(na_counts_df1)\n",
    "\n",
    "# print(\"\\n\")\n",
    "\n",
    "# print(\"台東土壤各欄位的 NA 值數量:\")\n",
    "# print(na_counts_df2)"
   ]
  },
  {
   "cell_type": "code",
   "execution_count": 73,
   "metadata": {},
   "outputs": [],
   "source": [
    "df1 = df1.drop(columns=['送樣日期', '樣品地段地號', '鈉Na'])\n",
    "df2 = df2.drop(columns=['年度', '月份', '樣品編號', '地點', 'Fe', 'Mn', 'Cu', 'Zn', 'Pb', 'Cd', 'Ni', 'Cr', 'Si', 'Na'])\n"
   ]
  },
  {
   "cell_type": "code",
   "execution_count": 74,
   "metadata": {},
   "outputs": [
    {
     "name": "stdout",
     "output_type": "stream",
     "text": [
      "df1.columns: Index(['種植作物', 'EC', 'pH', '有機質', '有效性磷', '有效性鉀', '有效性鈣', '有效性鎂'], dtype='object')\n",
      "df2.columns: Index(['試驗項目', 'pH', '有機質', 'P2O5', 'K2O', 'CaO', 'MgO', 'EC'], dtype='object')\n"
     ]
    }
   ],
   "source": [
    "print(\"df1.columns:\",df1.columns)\n",
    "print(\"df2.columns:\",df2.columns)"
   ]
  },
  {
   "cell_type": "code",
   "execution_count": 75,
   "metadata": {},
   "outputs": [],
   "source": [
    "# 對df1進行欄位重新命名\n",
    "df1 = df1.rename(columns={\n",
    "    '種植作物': 'CropType',\n",
    "    '有機質': 'OrganicMatter',\n",
    "    '有效性磷': 'P2O5',\n",
    "    '有效性鉀': 'K2O',\n",
    "    '有效性鈣': 'CaO',\n",
    "    '有效性鎂': 'MgO',\n",
    "})\n",
    "\n",
    "# 對df2進行欄位重新命名\n",
    "df2 = df2.rename(columns={\n",
    "    '試驗項目': 'CropType',\n",
    "    '有機質': 'OrganicMatter'\n",
    "})\n",
    "\n",
    "# 進行合併或其他操作\n",
    "df = pd.concat([df1, df2], ignore_index=True)"
   ]
  },
  {
   "cell_type": "code",
   "execution_count": 76,
   "metadata": {},
   "outputs": [
    {
     "data": {
      "text/html": [
       "<div>\n",
       "<style scoped>\n",
       "    .dataframe tbody tr th:only-of-type {\n",
       "        vertical-align: middle;\n",
       "    }\n",
       "\n",
       "    .dataframe tbody tr th {\n",
       "        vertical-align: top;\n",
       "    }\n",
       "\n",
       "    .dataframe thead th {\n",
       "        text-align: right;\n",
       "    }\n",
       "</style>\n",
       "<table border=\"1\" class=\"dataframe\">\n",
       "  <thead>\n",
       "    <tr style=\"text-align: right;\">\n",
       "      <th></th>\n",
       "      <th>CropType</th>\n",
       "      <th>EC</th>\n",
       "      <th>pH</th>\n",
       "      <th>OrganicMatter</th>\n",
       "      <th>P2O5</th>\n",
       "      <th>K2O</th>\n",
       "      <th>CaO</th>\n",
       "      <th>MgO</th>\n",
       "    </tr>\n",
       "  </thead>\n",
       "  <tbody>\n",
       "    <tr>\n",
       "      <th>0</th>\n",
       "      <td>柑桔</td>\n",
       "      <td>0.123</td>\n",
       "      <td>6.15</td>\n",
       "      <td>1.26724137931035</td>\n",
       "      <td>208.63485029868</td>\n",
       "      <td>168.420894341039</td>\n",
       "      <td>1081.41615730351</td>\n",
       "      <td>206.165826507494</td>\n",
       "    </tr>\n",
       "    <tr>\n",
       "      <th>1</th>\n",
       "      <td>檸檬</td>\n",
       "      <td>0.097</td>\n",
       "      <td>7.93</td>\n",
       "      <td>0.375862068965517</td>\n",
       "      <td>10.0600740957197</td>\n",
       "      <td>50.033685894896</td>\n",
       "      <td>3640.93512046294</td>\n",
       "      <td>148.802136021785</td>\n",
       "    </tr>\n",
       "    <tr>\n",
       "      <th>2</th>\n",
       "      <td>酪梨</td>\n",
       "      <td>0.113</td>\n",
       "      <td>7.91</td>\n",
       "      <td>1.77241379310345</td>\n",
       "      <td>172.489839904256</td>\n",
       "      <td>71.9643378444112</td>\n",
       "      <td>3566.05952455277</td>\n",
       "      <td>450.908700909717</td>\n",
       "    </tr>\n",
       "    <tr>\n",
       "      <th>3</th>\n",
       "      <td>酪梨</td>\n",
       "      <td>0.129</td>\n",
       "      <td>6.64</td>\n",
       "      <td>0.81551724137931</td>\n",
       "      <td>12.6821521414592</td>\n",
       "      <td>84.6154446964916</td>\n",
       "      <td>1919.61797577678</td>\n",
       "      <td>398.192781969146</td>\n",
       "    </tr>\n",
       "    <tr>\n",
       "      <th>4</th>\n",
       "      <td>酪梨</td>\n",
       "      <td>0.021</td>\n",
       "      <td>5.13</td>\n",
       "      <td>0.494827586206897</td>\n",
       "      <td>112.692878985239</td>\n",
       "      <td>92.7752044875284</td>\n",
       "      <td>663.180309782893</td>\n",
       "      <td>110.983884137318</td>\n",
       "    </tr>\n",
       "    <tr>\n",
       "      <th>...</th>\n",
       "      <td>...</td>\n",
       "      <td>...</td>\n",
       "      <td>...</td>\n",
       "      <td>...</td>\n",
       "      <td>...</td>\n",
       "      <td>...</td>\n",
       "      <td>...</td>\n",
       "      <td>...</td>\n",
       "    </tr>\n",
       "    <tr>\n",
       "      <th>15773</th>\n",
       "      <td>地瓜</td>\n",
       "      <td>0.21</td>\n",
       "      <td>6.37</td>\n",
       "      <td>2.57</td>\n",
       "      <td>35.28</td>\n",
       "      <td>139.82</td>\n",
       "      <td>3550.87</td>\n",
       "      <td>885.75</td>\n",
       "    </tr>\n",
       "    <tr>\n",
       "      <th>15774</th>\n",
       "      <td>山藥</td>\n",
       "      <td>0.06</td>\n",
       "      <td>6.74</td>\n",
       "      <td>1.85</td>\n",
       "      <td>37.93</td>\n",
       "      <td>166.13</td>\n",
       "      <td>2090.78</td>\n",
       "      <td>745.83</td>\n",
       "    </tr>\n",
       "    <tr>\n",
       "      <th>15775</th>\n",
       "      <td>茶</td>\n",
       "      <td>0.03</td>\n",
       "      <td>5.91</td>\n",
       "      <td>3.19</td>\n",
       "      <td>35.94</td>\n",
       "      <td>52.32</td>\n",
       "      <td>369.64</td>\n",
       "      <td>32.02</td>\n",
       "    </tr>\n",
       "    <tr>\n",
       "      <th>15776</th>\n",
       "      <td>茶</td>\n",
       "      <td>0.03</td>\n",
       "      <td>5.66</td>\n",
       "      <td>2.16</td>\n",
       "      <td>32.78</td>\n",
       "      <td>18.37</td>\n",
       "      <td>184.29</td>\n",
       "      <td>14.12</td>\n",
       "    </tr>\n",
       "    <tr>\n",
       "      <th>15777</th>\n",
       "      <td>火龍果</td>\n",
       "      <td>0.07</td>\n",
       "      <td>5.34</td>\n",
       "      <td>1.46</td>\n",
       "      <td>121.34</td>\n",
       "      <td>187.26</td>\n",
       "      <td>1725.69</td>\n",
       "      <td>65.58</td>\n",
       "    </tr>\n",
       "  </tbody>\n",
       "</table>\n",
       "<p>15778 rows × 8 columns</p>\n",
       "</div>"
      ],
      "text/plain": [
       "      CropType     EC    pH      OrganicMatter              P2O5  \\\n",
       "0           柑桔  0.123  6.15   1.26724137931035   208.63485029868   \n",
       "1           檸檬  0.097  7.93  0.375862068965517  10.0600740957197   \n",
       "2           酪梨  0.113  7.91   1.77241379310345  172.489839904256   \n",
       "3           酪梨  0.129  6.64   0.81551724137931  12.6821521414592   \n",
       "4           酪梨  0.021  5.13  0.494827586206897  112.692878985239   \n",
       "...        ...    ...   ...                ...               ...   \n",
       "15773       地瓜   0.21  6.37               2.57             35.28   \n",
       "15774       山藥   0.06  6.74               1.85             37.93   \n",
       "15775        茶   0.03  5.91               3.19             35.94   \n",
       "15776        茶   0.03  5.66               2.16             32.78   \n",
       "15777      火龍果   0.07  5.34               1.46            121.34   \n",
       "\n",
       "                    K2O               CaO               MgO  \n",
       "0      168.420894341039  1081.41615730351  206.165826507494  \n",
       "1       50.033685894896  3640.93512046294  148.802136021785  \n",
       "2      71.9643378444112  3566.05952455277  450.908700909717  \n",
       "3      84.6154446964916  1919.61797577678  398.192781969146  \n",
       "4      92.7752044875284  663.180309782893  110.983884137318  \n",
       "...                 ...               ...               ...  \n",
       "15773            139.82           3550.87            885.75  \n",
       "15774            166.13           2090.78            745.83  \n",
       "15775             52.32            369.64             32.02  \n",
       "15776             18.37            184.29             14.12  \n",
       "15777            187.26           1725.69             65.58  \n",
       "\n",
       "[15778 rows x 8 columns]"
      ]
     },
     "execution_count": 76,
     "metadata": {},
     "output_type": "execute_result"
    }
   ],
   "source": [
    "df"
   ]
  },
  {
   "cell_type": "code",
   "execution_count": 77,
   "metadata": {},
   "outputs": [],
   "source": [
    "# 創建一個字典，其中鍵是要被替換的名稱，值是您希望替換為的名稱\n",
    "replace_dict = {\n",
    "    '紅龍果': '火龍果',\n",
    "    '茶葉': '茶',\n",
    "    '米': '水稻',\n",
    "    '硬質玉米': '玉米',\n",
    "    '小番茄': '番茄',\n",
    "    '文旦': '文旦柚',\n",
    "    '鳳梨釋迦': '釋迦',\n",
    "    '胡蘿蔔': '紅蘿蔔'\n",
    "}\n",
    "\n",
    "# 使用replace方法進行替換\n",
    "df['CropType'] = df['CropType'].replace(replace_dict)\n"
   ]
  },
  {
   "cell_type": "code",
   "execution_count": 78,
   "metadata": {},
   "outputs": [
    {
     "data": {
      "text/plain": [
       "CropType         595\n",
       "EC                15\n",
       "pH                97\n",
       "OrganicMatter    658\n",
       "P2O5             101\n",
       "K2O               99\n",
       "CaO              101\n",
       "MgO               12\n",
       "dtype: int64"
      ]
     },
     "execution_count": 78,
     "metadata": {},
     "output_type": "execute_result"
    }
   ],
   "source": [
    "df.isnull().sum()"
   ]
  },
  {
   "cell_type": "code",
   "execution_count": 79,
   "metadata": {},
   "outputs": [
    {
     "data": {
      "text/plain": [
       "CropType         0\n",
       "EC               0\n",
       "pH               0\n",
       "OrganicMatter    0\n",
       "P2O5             0\n",
       "K2O              0\n",
       "CaO              0\n",
       "MgO              0\n",
       "dtype: int64"
      ]
     },
     "execution_count": 79,
     "metadata": {},
     "output_type": "execute_result"
    }
   ],
   "source": [
    "df = df.dropna(axis=0)\n",
    "df.isnull().sum()"
   ]
  },
  {
   "cell_type": "code",
   "execution_count": 80,
   "metadata": {
    "execution": {
     "iopub.execute_input": "2022-01-19T05:43:03.885417Z",
     "iopub.status.busy": "2022-01-19T05:43:03.884415Z",
     "iopub.status.idle": "2022-01-19T05:43:03.889950Z",
     "shell.execute_reply": "2022-01-19T05:43:03.891023Z"
    },
    "papermill": {
     "duration": 0.058842,
     "end_time": "2022-01-19T05:43:03.891178",
     "exception": false,
     "start_time": "2022-01-19T05:43:03.832336",
     "status": "completed"
    },
    "tags": []
   },
   "outputs": [
    {
     "data": {
      "text/plain": [
       "CropType         object\n",
       "EC               object\n",
       "pH               object\n",
       "OrganicMatter    object\n",
       "P2O5             object\n",
       "K2O              object\n",
       "CaO              object\n",
       "MgO              object\n",
       "dtype: object"
      ]
     },
     "execution_count": 80,
     "metadata": {},
     "output_type": "execute_result"
    }
   ],
   "source": [
    "df.dtypes"
   ]
  },
  {
   "cell_type": "code",
   "execution_count": 81,
   "metadata": {},
   "outputs": [],
   "source": [
    "cols_to_convert = df.columns[df.columns != 'CropType']\n",
    "\n",
    "for col in cols_to_convert:\n",
    "    df[col] = pd.to_numeric(df[col], errors='coerce')"
   ]
  },
  {
   "cell_type": "code",
   "execution_count": 82,
   "metadata": {
    "execution": {
     "iopub.execute_input": "2022-01-19T05:43:03.975256Z",
     "iopub.status.busy": "2022-01-19T05:43:03.974231Z",
     "iopub.status.idle": "2022-01-19T05:43:03.980696Z",
     "shell.execute_reply": "2022-01-19T05:43:03.981294Z"
    },
    "papermill": {
     "duration": 0.050705,
     "end_time": "2022-01-19T05:43:03.981448",
     "exception": false,
     "start_time": "2022-01-19T05:43:03.930743",
     "status": "completed"
    },
    "tags": []
   },
   "outputs": [
    {
     "data": {
      "text/plain": [
       "文旦柚                  1818\n",
       "水稻                   1303\n",
       "釋迦                    553\n",
       "番茄                    497\n",
       "火龍果                   418\n",
       "                     ... \n",
       "花生.玉米.地瓜.蔥蒜.水稻.木瓜       1\n",
       "小番茄.甜椒                  1\n",
       "花生.玉米.地瓜.蔥蒜             1\n",
       "大菜心                     1\n",
       "小番茄.角瓜                  1\n",
       "Name: CropType, Length: 1296, dtype: int64"
      ]
     },
     "execution_count": 82,
     "metadata": {},
     "output_type": "execute_result"
    }
   ],
   "source": [
    "df['CropType'].value_counts()"
   ]
  },
  {
   "cell_type": "code",
   "execution_count": 83,
   "metadata": {},
   "outputs": [
    {
     "data": {
      "text/plain": [
       "0        False\n",
       "1        False\n",
       "2        False\n",
       "3        False\n",
       "4        False\n",
       "         ...  \n",
       "15773    False\n",
       "15774    False\n",
       "15775    False\n",
       "15776    False\n",
       "15777     True\n",
       "Name: CropType, Length: 14546, dtype: bool"
      ]
     },
     "execution_count": 83,
     "metadata": {},
     "output_type": "execute_result"
    }
   ],
   "source": [
    "# 創建布林遮罩，用於識別那些計數大於或等於190的種植作物\n",
    "counts = df['CropType'].value_counts()\n",
    "mask = df['CropType'].isin(counts[counts >= 190].index)\n",
    "mask"
   ]
  },
  {
   "cell_type": "code",
   "execution_count": 84,
   "metadata": {},
   "outputs": [],
   "source": [
    "df = df[mask]"
   ]
  },
  {
   "cell_type": "code",
   "execution_count": 85,
   "metadata": {},
   "outputs": [
    {
     "data": {
      "text/plain": [
       "文旦柚    1818\n",
       "水稻     1303\n",
       "釋迦      553\n",
       "番茄      497\n",
       "火龍果     418\n",
       "玉米      348\n",
       "花生      327\n",
       "蔬菜      296\n",
       "紅蘿蔔     281\n",
       "芒果      277\n",
       "小米      220\n",
       "Name: CropType, dtype: int64"
      ]
     },
     "execution_count": 85,
     "metadata": {},
     "output_type": "execute_result"
    }
   ],
   "source": [
    "df['CropType'].value_counts()"
   ]
  },
  {
   "cell_type": "code",
   "execution_count": 86,
   "metadata": {},
   "outputs": [
    {
     "data": {
      "text/plain": [
       "50704"
      ]
     },
     "execution_count": 86,
     "metadata": {},
     "output_type": "execute_result"
    }
   ],
   "source": [
    "df.size"
   ]
  },
  {
   "cell_type": "code",
   "execution_count": 87,
   "metadata": {
    "execution": {
     "iopub.execute_input": "2022-01-19T05:43:04.072215Z",
     "iopub.status.busy": "2022-01-19T05:43:04.071533Z",
     "iopub.status.idle": "2022-01-19T05:43:04.546770Z",
     "shell.execute_reply": "2022-01-19T05:43:04.547313Z"
    },
    "papermill": {
     "duration": 0.52399,
     "end_time": "2022-01-19T05:43:04.547478",
     "exception": false,
     "start_time": "2022-01-19T05:43:04.023488",
     "status": "completed"
    },
    "tags": []
   },
   "outputs": [
    {
     "data": {
      "text/plain": [
       "<AxesSubplot: >"
      ]
     },
     "execution_count": 87,
     "metadata": {},
     "output_type": "execute_result"
    },
    {
     "data": {
      "image/png": "[encoded data removed]",
      "text/plain": [
       "<Figure size 432x288 with 2 Axes>"
      ]
     },
     "metadata": {
      "needs_background": "light"
     },
     "output_type": "display_data"
    }
   ],
   "source": [
    "sns.heatmap(df.corr(),annot=True)"
   ]
  },
  {
   "cell_type": "markdown",
   "metadata": {
    "papermill": {
     "duration": 0.039153,
     "end_time": "2022-01-19T05:43:04.626871",
     "exception": false,
     "start_time": "2022-01-19T05:43:04.587718",
     "status": "completed"
    },
    "tags": []
   },
   "source": [
    "# Seperating features and target label"
   ]
  },
  {
   "cell_type": "code",
   "execution_count": 88,
   "metadata": {
    "execution": {
     "iopub.execute_input": "2022-01-19T05:43:04.711476Z",
     "iopub.status.busy": "2022-01-19T05:43:04.710837Z",
     "iopub.status.idle": "2022-01-19T05:43:04.716667Z",
     "shell.execute_reply": "2022-01-19T05:43:04.717198Z"
    },
    "papermill": {
     "duration": 0.049985,
     "end_time": "2022-01-19T05:43:04.717341",
     "exception": false,
     "start_time": "2022-01-19T05:43:04.667356",
     "status": "completed"
    },
    "tags": []
   },
   "outputs": [],
   "source": [
    "features = df[['EC', 'pH', 'OrganicMatter', 'P2O5', 'K2O', 'CaO', 'MgO']]\n",
    "target = df['CropType']\n",
    "labels = df['CropType']"
   ]
  },
  {
   "cell_type": "code",
   "execution_count": 89,
   "metadata": {
    "execution": {
     "iopub.execute_input": "2022-01-19T05:43:04.800353Z",
     "iopub.status.busy": "2022-01-19T05:43:04.799714Z",
     "iopub.status.idle": "2022-01-19T05:43:04.803063Z",
     "shell.execute_reply": "2022-01-19T05:43:04.803702Z"
    },
    "papermill": {
     "duration": 0.046447,
     "end_time": "2022-01-19T05:43:04.803839",
     "exception": false,
     "start_time": "2022-01-19T05:43:04.757392",
     "status": "completed"
    },
    "tags": []
   },
   "outputs": [],
   "source": [
    "# Initializing empty lists to append all model's name and corresponding name\n",
    "acc = []\n",
    "model = []"
   ]
  },
  {
   "cell_type": "code",
   "execution_count": 90,
   "metadata": {},
   "outputs": [],
   "source": [
    "# 以平均數填充\n",
    "features_filled = features.fillna(features.mean())"
   ]
  },
  {
   "cell_type": "code",
   "execution_count": 91,
   "metadata": {},
   "outputs": [],
   "source": [
    "from sklearn.model_selection import train_test_split\n",
    "Xtrain, Xtest, Ytrain, Ytest = train_test_split(features_filled, target, test_size=0.2, random_state=0)"
   ]
  },
  {
   "cell_type": "markdown",
   "metadata": {},
   "source": [
    "# Methods"
   ]
  },
  {
   "cell_type": "markdown",
   "metadata": {
    "papermill": {
     "duration": 0.039474,
     "end_time": "2022-01-19T05:43:04.975940",
     "exception": false,
     "start_time": "2022-01-19T05:43:04.936466",
     "status": "completed"
    },
    "tags": []
   },
   "source": [
    "## Decision Tree"
   ]
  },
  {
   "cell_type": "code",
   "execution_count": 92,
   "metadata": {
    "execution": {
     "iopub.execute_input": "2022-01-19T05:43:05.068239Z",
     "iopub.status.busy": "2022-01-19T05:43:05.067596Z",
     "iopub.status.idle": "2022-01-19T05:43:05.124928Z",
     "shell.execute_reply": "2022-01-19T05:43:05.124305Z"
    },
    "papermill": {
     "duration": 0.107583,
     "end_time": "2022-01-19T05:43:05.125047",
     "exception": false,
     "start_time": "2022-01-19T05:43:05.017464",
     "status": "completed"
    },
    "tags": []
   },
   "outputs": [
    {
     "name": "stdout",
     "output_type": "stream",
     "text": [
      "DecisionTrees's Accuracy is:  48.186119873817034\n",
      "              precision    recall  f1-score   support\n",
      "\n",
      "          小米       0.71      0.25      0.37        48\n",
      "         文旦柚       0.46      0.79      0.59       374\n",
      "          水稻       0.58      0.71      0.64       251\n",
      "         火龍果       0.00      0.00      0.00        95\n",
      "          玉米       0.00      0.00      0.00        64\n",
      "          番茄       0.43      0.21      0.28        92\n",
      "         紅蘿蔔       0.41      0.54      0.46        65\n",
      "          芒果       0.42      0.30      0.35        50\n",
      "          花生       0.37      0.23      0.28        62\n",
      "          蔬菜       0.00      0.00      0.00        63\n",
      "          釋迦       0.41      0.39      0.40       104\n",
      "\n",
      "    accuracy                           0.48      1268\n",
      "   macro avg       0.34      0.31      0.31      1268\n",
      "weighted avg       0.40      0.48      0.42      1268\n",
      "\n"
     ]
    }
   ],
   "source": [
    "from sklearn.tree import DecisionTreeClassifier\n",
    "\n",
    "DecisionTree = DecisionTreeClassifier(criterion=\"entropy\",random_state=0,max_depth=5)\n",
    "\n",
    "DecisionTree.fit(Xtrain,Ytrain)\n",
    "\n",
    "predicted_values = DecisionTree.predict(Xtest)\n",
    "x = metrics.accuracy_score(Ytest, predicted_values)\n",
    "acc.append(x)\n",
    "model.append('Decision Tree')\n",
    "print(\"DecisionTrees's Accuracy is: \", x*100)\n",
    "\n",
    "print(classification_report(Ytest,predicted_values))"
   ]
  },
  {
   "cell_type": "code",
   "execution_count": 93,
   "metadata": {},
   "outputs": [
    {
     "data": {
      "text/plain": [
       "array([0.42902208, 0.45189274, 0.43769716, 0.40883978, 0.39305446])"
      ]
     },
     "execution_count": 93,
     "metadata": {},
     "output_type": "execute_result"
    }
   ],
   "source": [
    "from sklearn.model_selection import cross_val_score\n",
    "from sklearn.model_selection import StratifiedKFold\n",
    "\n",
    "cv = StratifiedKFold(n_splits=5)\n",
    "score = cross_val_score(DecisionTree, features_filled, target, cv=cv)\n",
    "score "
   ]
  },
  {
   "cell_type": "markdown",
   "metadata": {
    "papermill": {
     "duration": 0.04115,
     "end_time": "2022-01-19T05:43:05.807761",
     "exception": false,
     "start_time": "2022-01-19T05:43:05.766611",
     "status": "completed"
    },
    "tags": []
   },
   "source": [
    "## Guassian Naive Bayes"
   ]
  },
  {
   "cell_type": "code",
   "execution_count": 94,
   "metadata": {
    "execution": {
     "iopub.execute_input": "2022-01-19T05:43:05.917742Z",
     "iopub.status.busy": "2022-01-19T05:43:05.916712Z",
     "iopub.status.idle": "2022-01-19T05:43:05.965350Z",
     "shell.execute_reply": "2022-01-19T05:43:05.966018Z"
    },
    "papermill": {
     "duration": 0.107743,
     "end_time": "2022-01-19T05:43:05.966167",
     "exception": false,
     "start_time": "2022-01-19T05:43:05.858424",
     "status": "completed"
    },
    "tags": []
   },
   "outputs": [
    {
     "name": "stdout",
     "output_type": "stream",
     "text": [
      "Naive Bayes's Accuracy is:  0.38485804416403785\n",
      "              precision    recall  f1-score   support\n",
      "\n",
      "          小米       0.25      0.21      0.23        48\n",
      "         文旦柚       0.48      0.58      0.52       374\n",
      "          水稻       0.65      0.37      0.47       251\n",
      "         火龍果       0.27      0.07      0.12        95\n",
      "          玉米       0.21      0.19      0.20        64\n",
      "          番茄       0.44      0.23      0.30        92\n",
      "         紅蘿蔔       0.32      0.69      0.44        65\n",
      "          芒果       0.19      0.50      0.27        50\n",
      "          花生       0.24      0.68      0.35        62\n",
      "          蔬菜       0.00      0.00      0.00        63\n",
      "          釋迦       0.34      0.17      0.23       104\n",
      "\n",
      "    accuracy                           0.38      1268\n",
      "   macro avg       0.31      0.33      0.28      1268\n",
      "weighted avg       0.41      0.38      0.37      1268\n",
      "\n"
     ]
    }
   ],
   "source": [
    "from sklearn.naive_bayes import GaussianNB\n",
    "\n",
    "NaiveBayes = GaussianNB()\n",
    "\n",
    "NaiveBayes.fit(Xtrain,Ytrain)\n",
    "\n",
    "predicted_values = NaiveBayes.predict(Xtest)\n",
    "x = metrics.accuracy_score(Ytest, predicted_values)\n",
    "acc.append(x)\n",
    "model.append('Naive Bayes')\n",
    "print(\"Naive Bayes's Accuracy is: \", x)\n",
    "\n",
    "print(classification_report(Ytest,predicted_values))"
   ]
  },
  {
   "cell_type": "code",
   "execution_count": 95,
   "metadata": {},
   "outputs": [
    {
     "data": {
      "text/plain": [
       "array([0.28391167, 0.28312303, 0.29810726, 0.34648777, 0.24309392])"
      ]
     },
     "execution_count": 95,
     "metadata": {},
     "output_type": "execute_result"
    }
   ],
   "source": [
    "cv = StratifiedKFold(n_splits=5)\n",
    "score = cross_val_score(NaiveBayes, features_filled, target, cv=cv)\n",
    "score "
   ]
  },
  {
   "cell_type": "markdown",
   "metadata": {
    "papermill": {
     "duration": 0.042554,
     "end_time": "2022-01-19T05:43:06.408062",
     "exception": false,
     "start_time": "2022-01-19T05:43:06.365508",
     "status": "completed"
    },
    "tags": []
   },
   "source": [
    "## Support Vector Machine (SVM)"
   ]
  },
  {
   "cell_type": "code",
   "execution_count": 96,
   "metadata": {
    "execution": {
     "iopub.execute_input": "2022-01-19T05:43:06.502058Z",
     "iopub.status.busy": "2022-01-19T05:43:06.501316Z",
     "iopub.status.idle": "2022-01-19T05:43:06.908550Z",
     "shell.execute_reply": "2022-01-19T05:43:06.907970Z"
    },
    "papermill": {
     "duration": 0.458083,
     "end_time": "2022-01-19T05:43:06.908677",
     "exception": false,
     "start_time": "2022-01-19T05:43:06.450594",
     "status": "completed"
    },
    "tags": []
   },
   "outputs": [
    {
     "name": "stdout",
     "output_type": "stream",
     "text": [
      "SVM's Accuracy is:  0.2996845425867508\n",
      "              precision    recall  f1-score   support\n",
      "\n",
      "          小米       0.00      0.00      0.00        48\n",
      "         文旦柚       0.30      1.00      0.46       374\n",
      "          水稻       0.00      0.00      0.00       251\n",
      "         火龍果       1.00      0.01      0.02        95\n",
      "          玉米       1.00      0.02      0.03        64\n",
      "          番茄       0.75      0.03      0.06        92\n",
      "         紅蘿蔔       0.00      0.00      0.00        65\n",
      "          芒果       1.00      0.02      0.04        50\n",
      "          花生       0.00      0.00      0.00        62\n",
      "          蔬菜       0.00      0.00      0.00        63\n",
      "          釋迦       0.00      0.00      0.00       104\n",
      "\n",
      "    accuracy                           0.30      1268\n",
      "   macro avg       0.37      0.10      0.06      1268\n",
      "weighted avg       0.31      0.30      0.14      1268\n",
      "\n"
     ]
    }
   ],
   "source": [
    "from sklearn.svm import SVC\n",
    "\n",
    "SVM = SVC(gamma='auto')\n",
    "\n",
    "SVM.fit(Xtrain,Ytrain)\n",
    "\n",
    "predicted_values = SVM.predict(Xtest)\n",
    "\n",
    "x = metrics.accuracy_score(Ytest, predicted_values)\n",
    "acc.append(x)\n",
    "model.append('SVM')\n",
    "print(\"SVM's Accuracy is: \", x)\n",
    "\n",
    "print(classification_report(Ytest,predicted_values))"
   ]
  },
  {
   "cell_type": "code",
   "execution_count": 97,
   "metadata": {},
   "outputs": [
    {
     "data": {
      "text/plain": [
       "array([0.28706625, 0.28864353, 0.28864353, 0.28729282, 0.28729282])"
      ]
     },
     "execution_count": 97,
     "metadata": {},
     "output_type": "execute_result"
    }
   ],
   "source": [
    "cv = StratifiedKFold(n_splits=5)\n",
    "score = cross_val_score(SVM, features_filled, target, cv=cv)\n",
    "score "
   ]
  },
  {
   "cell_type": "markdown",
   "metadata": {
    "papermill": {
     "duration": 0.044005,
     "end_time": "2022-01-19T05:43:08.902449",
     "exception": false,
     "start_time": "2022-01-19T05:43:08.858444",
     "status": "completed"
    },
    "tags": []
   },
   "source": [
    "## Logistic Regression"
   ]
  },
  {
   "cell_type": "code",
   "execution_count": 98,
   "metadata": {
    "execution": {
     "iopub.execute_input": "2022-01-19T05:43:09.005272Z",
     "iopub.status.busy": "2022-01-19T05:43:09.004280Z",
     "iopub.status.idle": "2022-01-19T05:43:09.440693Z",
     "shell.execute_reply": "2022-01-19T05:43:09.441336Z"
    },
    "papermill": {
     "duration": 0.484795,
     "end_time": "2022-01-19T05:43:09.441513",
     "exception": false,
     "start_time": "2022-01-19T05:43:08.956718",
     "status": "completed"
    },
    "tags": []
   },
   "outputs": [
    {
     "name": "stdout",
     "output_type": "stream",
     "text": [
      "Logistic Regression's Accuracy is:  0.3643533123028391\n",
      "              precision    recall  f1-score   support\n",
      "\n",
      "          小米       0.00      0.00      0.00        48\n",
      "         文旦柚       0.37      0.78      0.50       374\n",
      "          水稻       0.36      0.58      0.45       251\n",
      "         火龍果       0.00      0.00      0.00        95\n",
      "          玉米       0.00      0.00      0.00        64\n",
      "          番茄       0.00      0.00      0.00        92\n",
      "         紅蘿蔔       0.00      0.00      0.00        65\n",
      "          芒果       0.00      0.00      0.00        50\n",
      "          花生       0.00      0.00      0.00        62\n",
      "          蔬菜       0.00      0.00      0.00        63\n",
      "          釋迦       0.41      0.25      0.31       104\n",
      "\n",
      "    accuracy                           0.36      1268\n",
      "   macro avg       0.10      0.15      0.11      1268\n",
      "weighted avg       0.21      0.36      0.26      1268\n",
      "\n"
     ]
    }
   ],
   "source": [
    "from sklearn.linear_model import LogisticRegression\n",
    "\n",
    "LogReg = LogisticRegression(random_state=0)\n",
    "\n",
    "LogReg.fit(Xtrain,Ytrain)\n",
    "\n",
    "predicted_values = LogReg.predict(Xtest)\n",
    "\n",
    "x = metrics.accuracy_score(Ytest, predicted_values)\n",
    "acc.append(x)\n",
    "model.append('Logistic Regression')\n",
    "print(\"Logistic Regression's Accuracy is: \", x)\n",
    "\n",
    "print(classification_report(Ytest,predicted_values))"
   ]
  },
  {
   "cell_type": "code",
   "execution_count": 99,
   "metadata": {},
   "outputs": [
    {
     "data": {
      "text/plain": [
       "array([0.34700315, 0.35883281, 0.31861199, 0.36306235, 0.28887135])"
      ]
     },
     "execution_count": 99,
     "metadata": {},
     "output_type": "execute_result"
    }
   ],
   "source": [
    "cv = StratifiedKFold(n_splits=5)\n",
    "score = cross_val_score(LogReg, features_filled, target, cv=cv)\n",
    "score "
   ]
  },
  {
   "cell_type": "markdown",
   "metadata": {
    "papermill": {
     "duration": 0.044439,
     "end_time": "2022-01-19T05:43:11.347958",
     "exception": false,
     "start_time": "2022-01-19T05:43:11.303519",
     "status": "completed"
    },
    "tags": []
   },
   "source": [
    "## Random Forest"
   ]
  },
  {
   "cell_type": "code",
   "execution_count": 114,
   "metadata": {
    "execution": {
     "iopub.execute_input": "2022-01-19T05:43:11.444242Z",
     "iopub.status.busy": "2022-01-19T05:43:11.439880Z",
     "iopub.status.idle": "2022-01-19T05:43:11.590925Z",
     "shell.execute_reply": "2022-01-19T05:43:11.590151Z"
    },
    "papermill": {
     "duration": 0.198284,
     "end_time": "2022-01-19T05:43:11.591096",
     "exception": false,
     "start_time": "2022-01-19T05:43:11.392812",
     "status": "completed"
    },
    "tags": []
   },
   "outputs": [
    {
     "name": "stdout",
     "output_type": "stream",
     "text": [
      "RandomForest's Accuracy is:  0.6593059936908517\n",
      "              precision    recall  f1-score   support\n",
      "\n",
      "          小米       0.89      0.69      0.78        48\n",
      "         文旦柚       0.63      0.86      0.73       374\n",
      "          水稻       0.74      0.81      0.77       251\n",
      "         火龍果       0.71      0.16      0.26        95\n",
      "          玉米       0.56      0.47      0.51        64\n",
      "          番茄       0.58      0.49      0.53        92\n",
      "         紅蘿蔔       0.69      0.62      0.65        65\n",
      "          芒果       0.59      0.52      0.55        50\n",
      "          花生       0.65      0.55      0.60        62\n",
      "          蔬菜       0.80      0.19      0.31        63\n",
      "          釋迦       0.63      0.71      0.67       104\n",
      "\n",
      "    accuracy                           0.66      1268\n",
      "   macro avg       0.68      0.55      0.58      1268\n",
      "weighted avg       0.67      0.66      0.63      1268\n",
      "\n"
     ]
    }
   ],
   "source": [
    "from sklearn.ensemble import RandomForestClassifier\n",
    "\n",
    "RF = RandomForestClassifier(n_estimators=1300, random_state=0)\n",
    "RF.fit(Xtrain,Ytrain)\n",
    "\n",
    "predicted_values = RF.predict(Xtest)\n",
    "\n",
    "x = metrics.accuracy_score(Ytest, predicted_values)\n",
    "acc.append(x)\n",
    "model.append('RandomForest')\n",
    "print(\"RandomForest's Accuracy is: \", x)\n",
    "\n",
    "print(classification_report(Ytest,predicted_values))"
   ]
  },
  {
   "cell_type": "code",
   "execution_count": 115,
   "metadata": {},
   "outputs": [
    {
     "data": {
      "text/plain": [
       "array([0.4944795 , 0.5126183 , 0.60410095, 0.54696133, 0.47198106])"
      ]
     },
     "execution_count": 115,
     "metadata": {},
     "output_type": "execute_result"
    }
   ],
   "source": [
    "cv = StratifiedKFold(n_splits=5)\n",
    "score = cross_val_score(RF, features_filled, target, cv=cv)\n",
    "score "
   ]
  },
  {
   "cell_type": "markdown",
   "metadata": {},
   "source": [
    "## XGboost "
   ]
  },
  {
   "cell_type": "code",
   "execution_count": null,
   "metadata": {},
   "outputs": [
    {
     "name": "stdout",
     "output_type": "stream",
     "text": [
      "XGBoost's Accuracy is: 0.6277602523659306\n",
      "              precision    recall  f1-score   support\n",
      "\n",
      "          小米       0.89      0.65      0.75        48\n",
      "         文旦柚       0.60      0.81      0.69       374\n",
      "          水稻       0.75      0.82      0.78       251\n",
      "         火龍果       0.45      0.20      0.28        95\n",
      "          玉米       0.51      0.41      0.45        64\n",
      "          番茄       0.57      0.51      0.54        92\n",
      "         紅蘿蔔       0.63      0.49      0.55        65\n",
      "          芒果       0.54      0.44      0.48        50\n",
      "          花生       0.48      0.45      0.47        62\n",
      "          蔬菜       0.61      0.17      0.27        63\n",
      "          釋迦       0.63      0.70      0.67       104\n",
      "\n",
      "    accuracy                           0.63      1268\n",
      "   macro avg       0.61      0.51      0.54      1268\n",
      "weighted avg       0.62      0.63      0.61      1268\n",
      "\n"
     ]
    }
   ],
   "source": [
    "\n",
    "from sklearn.preprocessing import LabelEncoder\n",
    "import xgboost as xgb\n",
    "from sklearn.metrics import accuracy_score, classification_report\n",
    "\n",
    "# 初始化 LabelEncoder\n",
    "label_encoder = LabelEncoder()\n",
    "\n",
    "# 使用 LabelEncoder 轉換 Ytrain 和 Ytest\n",
    "Ytrain_encoded = label_encoder.fit_transform(Ytrain)\n",
    "Ytest_encoded = label_encoder.transform(Ytest)\n",
    "\n",
    "# 使用轉換後的 Ytrain_encoded 進行訓練\n",
    "XB = xgb.XGBClassifier()\n",
    "XB.fit(Xtrain, Ytrain_encoded)\n",
    "\n",
    "# 進行預測，這將給出整數形式的類別\n",
    "predicted_values_encoded = XB.predict(Xtest)\n",
    "\n",
    "# 使用 LabelEncoder 反向轉換預測結果獲得原始的字符串類別\n",
    "predicted_values = label_encoder.inverse_transform(predicted_values_encoded)\n",
    "\n",
    "# 計算精度\n",
    "accuracy = accuracy_score(Ytest_encoded, predicted_values_encoded)\n",
    "acc.append(accuracy)\n",
    "model.append('XGBoost')\n",
    "\n",
    "print(\"XGBoost's Accuracy is:\", accuracy)\n",
    "\n",
    "# 使用原始的 Ytest 和預測的字符串類別進行分類報告\n",
    "print(classification_report(Ytest, predicted_values))\n"
   ]
  },
  {
   "cell_type": "markdown",
   "metadata": {},
   "source": [
    "## KNN"
   ]
  },
  {
   "cell_type": "code",
   "execution_count": null,
   "metadata": {},
   "outputs": [
    {
     "name": "stdout",
     "output_type": "stream",
     "text": [
      "KNN's Accuracy is: 0.41798107255520506\n",
      "              precision    recall  f1-score   support\n",
      "\n",
      "          小米       0.39      0.50      0.44        48\n",
      "         文旦柚       0.48      0.74      0.58       374\n",
      "          水稻       0.45      0.57      0.50       251\n",
      "         火龍果       0.30      0.12      0.17        95\n",
      "          玉米       0.21      0.09      0.13        64\n",
      "          番茄       0.25      0.16      0.20        92\n",
      "         紅蘿蔔       0.21      0.14      0.17        65\n",
      "          芒果       0.40      0.20      0.27        50\n",
      "          花生       0.33      0.19      0.24        62\n",
      "          蔬菜       0.04      0.02      0.02        63\n",
      "          釋迦       0.41      0.23      0.29       104\n",
      "\n",
      "    accuracy                           0.42      1268\n",
      "   macro avg       0.32      0.27      0.27      1268\n",
      "weighted avg       0.37      0.42      0.38      1268\n",
      "\n"
     ]
    }
   ],
   "source": [
    "from sklearn.neighbors import KNeighborsClassifier\n",
    "from sklearn.metrics import accuracy_score, classification_report\n",
    "\n",
    "# Initialize the KNN classifier\n",
    "# By default, n_neighbors=5. You can change this value based on your requirement.\n",
    "knn_model = KNeighborsClassifier(n_neighbors=5)\n",
    "\n",
    "# Train the KNN classifier\n",
    "knn_model.fit(Xtrain, Ytrain)\n",
    "\n",
    "# Predict using KNN classifier\n",
    "predicted_values_knn = knn_model.predict(Xtest)\n",
    "\n",
    "# Calculate accuracy\n",
    "score = accuracy_score(Ytest, predicted_values_knn)\n",
    "\n",
    "# Append accuracy and model name to lists\n",
    "acc.append(score)\n",
    "model.append('KNN')\n",
    "\n",
    "print(\"KNN's Accuracy is:\", score)\n",
    "print(classification_report(Ytest, predicted_values_knn))\n"
   ]
  },
  {
   "cell_type": "code",
   "execution_count": null,
   "metadata": {},
   "outputs": [
    {
     "data": {
      "text/plain": [
       "array([0.3170347 , 0.32413249, 0.3477918 , 0.35674822, 0.33149171])"
      ]
     },
     "execution_count": 63,
     "metadata": {},
     "output_type": "execute_result"
    }
   ],
   "source": [
    "cv = StratifiedKFold(n_splits=5)\n",
    "score = cross_val_score(knn_model, features_filled, target, cv=cv)\n",
    "score "
   ]
  },
  {
   "cell_type": "markdown",
   "metadata": {
    "papermill": {
     "duration": 0.046181,
     "end_time": "2022-01-19T05:43:12.470853",
     "exception": false,
     "start_time": "2022-01-19T05:43:12.424672",
     "status": "completed"
    },
    "tags": []
   },
   "source": [
    "## LightGBM Model"
   ]
  },
  {
   "cell_type": "code",
   "execution_count": null,
   "metadata": {},
   "outputs": [
    {
     "name": "stdout",
     "output_type": "stream",
     "text": [
      "[LightGBM] [Info] Auto-choosing col-wise multi-threading, the overhead of testing was 0.000242 seconds.\n",
      "You can set `force_col_wise=true` to remove the overhead.\n",
      "[LightGBM] [Info] Total Bins 1785\n",
      "[LightGBM] [Info] Number of data points in the train set: 5070, number of used features: 7\n",
      "[LightGBM] [Info] Start training from score -3.383602\n",
      "[LightGBM] [Info] Start training from score -1.255924\n",
      "[LightGBM] [Info] Start training from score -1.572648\n",
      "[LightGBM] [Info] Start training from score -2.753444\n",
      "[LightGBM] [Info] Start training from score -2.882122\n",
      "[LightGBM] [Info] Start training from score -2.527209\n",
      "[LightGBM] [Info] Start training from score -3.155818\n",
      "[LightGBM] [Info] Start training from score -3.106146\n",
      "[LightGBM] [Info] Start training from score -2.951366\n",
      "[LightGBM] [Info] Start training from score -3.080058\n",
      "[LightGBM] [Info] Start training from score -2.424073\n",
      "LGBM's Accuracy is: 0.6269716088328076\n",
      "              precision    recall  f1-score   support\n",
      "\n",
      "          小米       0.94      0.65      0.77        48\n",
      "         文旦柚       0.61      0.83      0.70       374\n",
      "          水稻       0.73      0.82      0.77       251\n",
      "         火龍果       0.52      0.16      0.24        95\n",
      "          玉米       0.47      0.39      0.43        64\n",
      "          番茄       0.54      0.47      0.50        92\n",
      "         紅蘿蔔       0.63      0.55      0.59        65\n",
      "          芒果       0.55      0.42      0.48        50\n",
      "          花生       0.64      0.44      0.52        62\n",
      "          蔬菜       0.45      0.14      0.22        63\n",
      "          釋迦       0.59      0.69      0.64       104\n",
      "\n",
      "    accuracy                           0.63      1268\n",
      "   macro avg       0.61      0.51      0.53      1268\n",
      "weighted avg       0.62      0.63      0.60      1268\n",
      "\n"
     ]
    }
   ],
   "source": [
    "from lightgbm import LGBMClassifier\n",
    "from sklearn.metrics import accuracy_score, classification_report\n",
    "\n",
    "# Train the LGBM model\n",
    "LGBM = LGBMClassifier(random_state=0)\n",
    "LGBM.fit(Xtrain, Ytrain)\n",
    "\n",
    "# Predict using LGBM model\n",
    "predicted_values_LGBM = LGBM.predict(Xtest)\n",
    "\n",
    "# Calculate accuracy\n",
    "accuracy_LGBM = accuracy_score(Ytest, predicted_values_LGBM)\n",
    "\n",
    "# Append accuracy and model name to lists\n",
    "acc.append(accuracy_LGBM)\n",
    "model.append('LGBM')\n",
    "\n",
    "print(\"LGBM's Accuracy is:\", accuracy_LGBM)\n",
    "print(classification_report(Ytest, predicted_values_LGBM))\n"
   ]
  },
  {
   "cell_type": "code",
   "execution_count": null,
   "metadata": {},
   "outputs": [
    {
     "name": "stdout",
     "output_type": "stream",
     "text": [
      "[LightGBM] [Info] Auto-choosing col-wise multi-threading, the overhead of testing was 0.000174 seconds.\n",
      "You can set `force_col_wise=true` to remove the overhead.\n",
      "[LightGBM] [Info] Total Bins 1785\n",
      "[LightGBM] [Info] Number of data points in the train set: 5070, number of used features: 7\n",
      "[LightGBM] [Info] Start training from score -3.360612\n",
      "[LightGBM] [Info] Start training from score -1.249022\n",
      "[LightGBM] [Info] Start training from score -1.582199\n",
      "[LightGBM] [Info] Start training from score -2.719955\n",
      "[LightGBM] [Info] Start training from score -2.899884\n",
      "[LightGBM] [Info] Start training from score -2.544644\n",
      "[LightGBM] [Info] Start training from score -3.114996\n",
      "[LightGBM] [Info] Start training from score -3.132933\n",
      "[LightGBM] [Info] Start training from score -2.962752\n",
      "[LightGBM] [Info] Start training from score -3.063036\n",
      "[LightGBM] [Info] Start training from score -2.439786\n",
      "[LightGBM] [Info] Auto-choosing col-wise multi-threading, the overhead of testing was 0.000176 seconds.\n",
      "You can set `force_col_wise=true` to remove the overhead.\n",
      "[LightGBM] [Info] Total Bins 1785\n",
      "[LightGBM] [Info] Number of data points in the train set: 5070, number of used features: 7\n",
      "[LightGBM] [Info] Start training from score -3.360612\n",
      "[LightGBM] [Info] Start training from score -1.248335\n",
      "[LightGBM] [Info] Start training from score -1.581240\n",
      "[LightGBM] [Info] Start training from score -2.719955\n",
      "[LightGBM] [Info] Start training from score -2.903475\n",
      "[LightGBM] [Info] Start training from score -2.547160\n",
      "[LightGBM] [Info] Start training from score -3.114996\n",
      "[LightGBM] [Info] Start training from score -3.132933\n",
      "[LightGBM] [Info] Start training from score -2.962752\n",
      "[LightGBM] [Info] Start training from score -3.063036\n",
      "[LightGBM] [Info] Start training from score -2.439786\n",
      "[LightGBM] [Info] Auto-choosing col-wise multi-threading, the overhead of testing was 0.000164 seconds.\n",
      "You can set `force_col_wise=true` to remove the overhead.\n",
      "[LightGBM] [Info] Total Bins 1785\n",
      "[LightGBM] [Info] Number of data points in the train set: 5070, number of used features: 7\n",
      "[LightGBM] [Info] Start training from score -3.360612\n",
      "[LightGBM] [Info] Start training from score -1.248335\n",
      "[LightGBM] [Info] Start training from score -1.581240\n",
      "[LightGBM] [Info] Start training from score -2.719955\n",
      "[LightGBM] [Info] Start training from score -2.903475\n",
      "[LightGBM] [Info] Start training from score -2.547160\n",
      "[LightGBM] [Info] Start training from score -3.119450\n",
      "[LightGBM] [Info] Start training from score -3.128419\n",
      "[LightGBM] [Info] Start training from score -2.962752\n",
      "[LightGBM] [Info] Start training from score -3.063036\n",
      "[LightGBM] [Info] Start training from score -2.439786\n",
      "[LightGBM] [Info] Auto-choosing col-wise multi-threading, the overhead of testing was 0.000105 seconds.\n",
      "You can set `force_col_wise=true` to remove the overhead.\n",
      "[LightGBM] [Info] Total Bins 1785\n",
      "[LightGBM] [Info] Number of data points in the train set: 5071, number of used features: 7\n",
      "[LightGBM] [Info] Start training from score -3.360809\n",
      "[LightGBM] [Info] Start training from score -1.249220\n",
      "[LightGBM] [Info] Start training from score -1.582396\n",
      "[LightGBM] [Info] Start training from score -2.717163\n",
      "[LightGBM] [Info] Start training from score -2.903672\n",
      "[LightGBM] [Info] Start training from score -2.544841\n",
      "[LightGBM] [Info] Start training from score -3.115193\n",
      "[LightGBM] [Info] Start training from score -3.128616\n",
      "[LightGBM] [Info] Start training from score -2.966773\n",
      "[LightGBM] [Info] Start training from score -3.063233\n",
      "[LightGBM] [Info] Start training from score -2.437724\n",
      "[LightGBM] [Info] Auto-choosing col-wise multi-threading, the overhead of testing was 0.000139 seconds.\n",
      "You can set `force_col_wise=true` to remove the overhead.\n",
      "[LightGBM] [Info] Total Bins 1785\n",
      "[LightGBM] [Info] Number of data points in the train set: 5071, number of used features: 7\n",
      "[LightGBM] [Info] Start training from score -3.360809\n",
      "[LightGBM] [Info] Start training from score -1.249220\n",
      "[LightGBM] [Info] Start training from score -1.582396\n",
      "[LightGBM] [Info] Start training from score -2.717163\n",
      "[LightGBM] [Info] Start training from score -2.900082\n",
      "[LightGBM] [Info] Start training from score -2.544841\n",
      "[LightGBM] [Info] Start training from score -3.115193\n",
      "[LightGBM] [Info] Start training from score -3.128616\n",
      "[LightGBM] [Info] Start training from score -2.966773\n",
      "[LightGBM] [Info] Start training from score -3.067462\n",
      "[LightGBM] [Info] Start training from score -2.437724\n"
     ]
    },
    {
     "data": {
      "text/plain": [
       "array([0.47476341, 0.51025237, 0.57886435, 0.53117601, 0.45146014])"
      ]
     },
     "execution_count": 65,
     "metadata": {},
     "output_type": "execute_result"
    }
   ],
   "source": [
    "cv = StratifiedKFold(n_splits=5)\n",
    "score = cross_val_score(LGBM, features_filled, target, cv=cv)\n",
    "score "
   ]
  },
  {
   "cell_type": "markdown",
   "metadata": {
    "papermill": {
     "duration": 0.047575,
     "end_time": "2022-01-19T05:43:17.046191",
     "exception": false,
     "start_time": "2022-01-19T05:43:16.998616",
     "status": "completed"
    },
    "tags": []
   },
   "source": [
    "# Accuracy Comparison"
   ]
  },
  {
   "cell_type": "code",
   "execution_count": null,
   "metadata": {
    "execution": {
     "iopub.execute_input": "2022-01-19T05:43:17.145965Z",
     "iopub.status.busy": "2022-01-19T05:43:17.145243Z",
     "iopub.status.idle": "2022-01-19T05:43:17.313434Z",
     "shell.execute_reply": "2022-01-19T05:43:17.313923Z"
    },
    "papermill": {
     "duration": 0.219581,
     "end_time": "2022-01-19T05:43:17.314085",
     "exception": false,
     "start_time": "2022-01-19T05:43:17.094504",
     "status": "completed"
    },
    "tags": []
   },
   "outputs": [
    {
     "data": {
      "text/plain": [
       "<AxesSubplot: title={'center': 'Accuracy Comparison'}, xlabel='Accuracy', ylabel='Algorithm'>"
      ]
     },
     "execution_count": 66,
     "metadata": {},
     "output_type": "execute_result"
    },
    {
     "data": {
      "image/png": "[encoded data removed]",
      "text/plain": [
       "<Figure size 1600x900 with 1 Axes>"
      ]
     },
     "metadata": {
      "needs_background": "light"
     },
     "output_type": "display_data"
    }
   ],
   "source": [
    "plt.figure(figsize=[16,9],dpi = 100)\n",
    "plt.title('Accuracy Comparison')\n",
    "plt.xlabel('Accuracy')\n",
    "plt.ylabel('Algorithm')\n",
    "sns.barplot(x = acc,y = model,palette='dark')"
   ]
  },
  {
   "cell_type": "code",
   "execution_count": null,
   "metadata": {
    "execution": {
     "iopub.execute_input": "2022-01-19T05:43:17.420951Z",
     "iopub.status.busy": "2022-01-19T05:43:17.420254Z",
     "iopub.status.idle": "2022-01-19T05:43:17.423129Z",
     "shell.execute_reply": "2022-01-19T05:43:17.423801Z"
    },
    "papermill": {
     "duration": 0.059955,
     "end_time": "2022-01-19T05:43:17.423964",
     "exception": false,
     "start_time": "2022-01-19T05:43:17.364009",
     "status": "completed"
    },
    "tags": []
   },
   "outputs": [
    {
     "name": "stdout",
     "output_type": "stream",
     "text": [
      "Decision Tree --> 0.48186119873817035\n",
      "Naive Bayes --> 0.38485804416403785\n",
      "SVM --> 0.2996845425867508\n",
      "Logistic Regression --> 0.3643533123028391\n",
      "RandomForest --> 0.6577287066246057\n",
      "XGBoost --> 0.6277602523659306\n",
      "KNN --> 0.41798107255520506\n",
      "LGBM --> 0.6269716088328076\n"
     ]
    }
   ],
   "source": [
    "accuracy_models = dict(zip(model, acc))\n",
    "for k, v in accuracy_models.items():\n",
    "    print (k, '-->', v)"
   ]
  },
  {
   "cell_type": "markdown",
   "metadata": {
    "papermill": {
     "duration": 0.048751,
     "end_time": "2022-01-19T05:43:17.522918",
     "exception": false,
     "start_time": "2022-01-19T05:43:17.474167",
     "status": "completed"
    },
    "tags": []
   },
   "source": [
    "## Making a prediction"
   ]
  },
  {
   "cell_type": "code",
   "execution_count": null,
   "metadata": {
    "execution": {
     "iopub.execute_input": "2022-01-19T05:43:17.624603Z",
     "iopub.status.busy": "2022-01-19T05:43:17.623879Z",
     "iopub.status.idle": "2022-01-19T05:43:17.632695Z",
     "shell.execute_reply": "2022-01-19T05:43:17.633186Z"
    },
    "papermill": {
     "duration": 0.061397,
     "end_time": "2022-01-19T05:43:17.633348",
     "exception": false,
     "start_time": "2022-01-19T05:43:17.571951",
     "status": "completed"
    },
    "tags": []
   },
   "outputs": [],
   "source": [
    "data = np.array([[0.3, 5.17, 1.3, 23.603016, 60.3, 6.7, 140.91]])\n",
    "prediction = RF.predict(data)"
   ]
  },
  {
   "cell_type": "code",
   "execution_count": null,
   "metadata": {},
   "outputs": [
    {
     "name": "stdout",
     "output_type": "stream",
     "text": [
      "['文旦柚']\n"
     ]
    }
   ],
   "source": [
    "print(prediction)"
   ]
  }
 ],
 "metadata": {
  "kernelspec": {
   "display_name": "Python 3",
   "language": "python",
   "name": "python3"
  },
  "language_info": {
   "codemirror_mode": {
    "name": "ipython",
    "version": 3
   },
   "file_extension": ".py",
   "mimetype": "text/x-python",
   "name": "python",
   "nbconvert_exporter": "python",
   "pygments_lexer": "ipython3",
   "version": "3.8.8"
  },
  "papermill": {
   "duration": 21.35152,
   "end_time": "2022-01-19T05:43:18.107695",
   "environment_variables": {},
   "exception": null,
   "input_path": "__notebook__.ipynb",
   "output_path": "__notebook__.ipynb",
   "parameters": {},
   "start_time": "2022-01-19T05:42:56.756175",
   "version": "2.1.0"
  }
 },
 "nbformat": 4,
 "nbformat_minor": 4
}
